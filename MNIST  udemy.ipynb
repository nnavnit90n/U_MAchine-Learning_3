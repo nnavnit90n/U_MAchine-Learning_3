{
 "cells": [
  {
   "cell_type": "markdown",
   "metadata": {},
   "source": [
    "# \n",
    "MNIST is often considered the hello world of machine learning. It contains 70,000 images of handwritten digits suitable for image classification. Typically, 60,000 of these images are used for training and 10,000 are set aside for testing. Each digit is a black and white 28 x 28 pixel image along with a label, so the full dataset can be used for supervised training as well as testing unsupervised algorithms.\n",
    "\n",
    "Over the years, MNIST has been used to measure the accuracy of a number of different algorithms. In this example, we will train a standard three layer neural network. Even this simple model can achieve 98% accuracy, rivaling human performance.\n",
    "\n",
    "This example requires Python 3, Keras, Tensorflow, matplotlib, and numpy. You can use either Tensorflow-CPU or Tensorflow-GPU, of course Tensorflow-GPU will train significantly faster.\n",
    "\n"
   ]
  },
  {
   "cell_type": "code",
   "execution_count": 1,
   "metadata": {},
   "outputs": [
    {
     "name": "stderr",
     "output_type": "stream",
     "text": [
      "Using TensorFlow backend.\n"
     ]
    }
   ],
   "source": [
    "import keras\n",
    "from keras.datasets import mnist\n",
    "from keras.models import Sequential\n",
    "from keras.layers import Dense, Dropout, Flatten\n",
    "from keras.optimizers import Adam\n",
    "from matplotlib import pyplot as plt\n",
    "import numpy as np\n",
    "import random\n",
    "from tensorflow.keras import backend as K"
   ]
  },
  {
   "cell_type": "markdown",
   "metadata": {},
   "source": [
    "# Load data\n",
    "Keras has a builting function for loading MNIST data and splitting it into train and test sets. x_train and x_test are arrays of train and test input images respectively. Images are represented as a 28 x 28 matrix of pixel values. y_train and y_test are train and test labels respectively.\n",
    "\n",
    "Pixel values are normalized into values ranging from 0.0 - 1.0."
   ]
  },
  {
   "cell_type": "code",
   "execution_count": 2,
   "metadata": {},
   "outputs": [],
   "source": [
    "(x_train,y_train),(x_test,y_test)=mnist.load_data()"
   ]
  },
  {
   "cell_type": "code",
   "execution_count": 3,
   "metadata": {},
   "outputs": [],
   "source": [
    "# Save original test images for display purposes\n",
    "orig_test = x_test"
   ]
  },
  {
   "cell_type": "code",
   "execution_count": 4,
   "metadata": {},
   "outputs": [
    {
     "name": "stdout",
     "output_type": "stream",
     "text": [
      "60000 train samples\n",
      "10000 test samples\n"
     ]
    }
   ],
   "source": [
    "x_train, x_test = x_train / 255.0, x_test / 255.0\n",
    "\n",
    "print(x_train.shape[0], 'train samples')\n",
    "print(x_test.shape[0], 'test samples')"
   ]
  },
  {
   "cell_type": "code",
   "execution_count": 5,
   "metadata": {},
   "outputs": [
    {
     "data": {
      "image/png": "[encoded data removed]",
      "text/plain": [
       "<Figure size 432x288 with 1 Axes>"
      ]
     },
     "metadata": {
      "needs_background": "light"
     },
     "output_type": "display_data"
    }
   ],
   "source": [
    "#The following cell display random test images to get an idea of what they look like.\n",
    "index = random.randrange(1000)\n",
    "plt.imshow(orig_test[index], cmap='gray')\n",
    "plt.title('Label: %d' % y_test[index])\n",
    "plt.show()"
   ]
  },
  {
   "cell_type": "code",
   "execution_count": 6,
   "metadata": {},
   "outputs": [
    {
     "data": {
      "text/plain": [
       "(10000,)"
      ]
     },
     "execution_count": 6,
     "metadata": {},
     "output_type": "execute_result"
    }
   ],
   "source": [
    "#orig_test.shape\n",
    "#orig_test[1]\n",
    "y_test.shape"
   ]
  },
  {
   "cell_type": "markdown",
   "metadata": {},
   "source": [
    "# Model selection::\n",
    "Many different model exists in machine earning ;\n",
    "1.Deep learning model outperform other model\n",
    "\n",
    "2.Several types of deep leaning models\n",
    "\n",
    "3.Deep learning model have several layer\n",
    "\n",
    "4.weight and nias are learned  during training\n",
    "\n",
    "# Best vision model\n",
    "Convolutional neural network\n"
   ]
  },
  {
   "cell_type": "code",
   "execution_count": 7,
   "metadata": {},
   "outputs": [],
   "source": [
    "#These are some configuration parameters and hyperparameters.\n",
    "\n",
    "# Input image dimensions\n",
    "img_rows, img_cols = 28, 28\n",
    "\n",
    "# The number of training samples per batch. 128 is a reasonable number.\n",
    "batch_size = 128\n",
    "\n",
    "# Our data set contains 10 digits, so the number of classes is 10\n",
    "num_classes = 10\n",
    "\n",
    "# epochs is the number of times the model is trained with the data set, more can be better, up to a point\n",
    "epochs = 20\n",
    "\n",
    "# dropout is a common regularization hyperperameter. It helps to avoid overfitting or memorizing the input.\n",
    "dropout = 0.5"
   ]
  },
  {
   "cell_type": "markdown",
   "metadata": {},
   "source": [
    "#  data preparation::"
   ]
  },
  {
   "cell_type": "code",
   "execution_count": 8,
   "metadata": {},
   "outputs": [
    {
     "name": "stdout",
     "output_type": "stream",
     "text": [
      "60000 train samples\n",
      "10000 test samples\n"
     ]
    }
   ],
   "source": [
    "if K.image_data_format() == 'channels_first':\n",
    "    x_train = x_train.reshape(x_train.shape[0], 1, img_rows, img_cols)\n",
    "    x_test = x_test.reshape(x_test.shape[0], 1, img_rows, img_cols)\n",
    "    input_shape = (1, img_rows, img_cols)\n",
    "else:\n",
    "    x_train = x_train.reshape(x_train.shape[0], img_rows, img_cols, 1)\n",
    "    x_test = x_test.reshape(x_test.shape[0], img_rows, img_cols, 1)\n",
    "    input_shape = (img_rows, img_cols, 1)\n",
    "    \n",
    "x_train, x_test = x_train / 255.0, x_test / 255.0\n",
    "\n",
    "print(x_train.shape[0], 'train samples')\n",
    "print(x_test.shape[0], 'test samples')"
   ]
  },
  {
   "cell_type": "markdown",
   "metadata": {},
   "source": [
    "# CNN:: \n",
    "Convolution layer\n",
    "Pool layer\n",
    "Dense or fully connected layer"
   ]
  },
  {
   "cell_type": "markdown",
   "metadata": {},
   "source": [
    "# defination of Model::\n",
    "CNNs are like two dimensional Finite Impulse Response (FIR) filters commonly used in signal processing. Models with over 100 CNN, pooling, padding, and other layers have been successfully trained to recognize complex objects as well as multiple objects in the one image.\n",
    "\n",
    "This model uses two convolutional layers, a max pooling layer, a dense layer, and a one-hot encoded output layer. Even with these few layers, this model can achieve over 99% accuracy."
   ]
  },
  {
   "cell_type": "code",
   "execution_count": 9,
   "metadata": {},
   "outputs": [
    {
     "name": "stdout",
     "output_type": "stream",
     "text": [
      "Model: \"sequential_1\"\n",
      "_________________________________________________________________\n",
      "Layer (type)                 Output Shape              Param #   \n",
      "=================================================================\n",
      "conv2d_1 (Conv2D)            (None, 26, 26, 32)        320       \n",
      "_________________________________________________________________\n",
      "conv2d_2 (Conv2D)            (None, 24, 24, 64)        18496     \n",
      "_________________________________________________________________\n",
      "max_pooling2d_1 (MaxPooling2 (None, 12, 12, 64)        0         \n",
      "_________________________________________________________________\n",
      "dropout_1 (Dropout)          (None, 12, 12, 64)        0         \n",
      "_________________________________________________________________\n",
      "flatten_1 (Flatten)          (None, 9216)              0         \n",
      "_________________________________________________________________\n",
      "dense_1 (Dense)              (None, 128)               1179776   \n",
      "_________________________________________________________________\n",
      "dropout_2 (Dropout)          (None, 128)               0         \n",
      "_________________________________________________________________\n",
      "dense_2 (Dense)              (None, 10)                1290      \n",
      "=================================================================\n",
      "Total params: 1,199,882\n",
      "Trainable params: 1,199,882\n",
      "Non-trainable params: 0\n",
      "_________________________________________________________________\n"
     ]
    }
   ],
   "source": [
    "from keras.models import Sequential\n",
    "from keras.layers import Dense, Conv2D, Dropout, Flatten, MaxPooling2D\n",
    "model = Sequential()\n",
    "model.add(Conv2D(32, kernel_size=(3, 3), activation='relu', input_shape=input_shape))\n",
    "model.add(Conv2D(64, (3, 3), activation='relu'))\n",
    "model.add(MaxPooling2D(pool_size=(2, 2)))\n",
    "model.add(Dropout(dropout/2))\n",
    "model.add(Flatten())\n",
    "model.add(Dense(128, activation='relu'))\n",
    "model.add(Dropout(dropout))\n",
    "model.add(Dense(num_classes, activation='softmax'))\n",
    "\n",
    "model.summary()"
   ]
  },
  {
   "cell_type": "markdown",
   "metadata": {},
   "source": [
    "# Train Model\n",
    "This is more or less boilerplate Keras code to train the model given the training data set. Keras can also evaluate the trained model given the test data set. Matplotlib is used to plot train and test accuracy as a function of the epoch number.\n",
    "\n",
    "Ideally, the accuracy with test and train data should be about the same. Low training accuracy means the model exhibits high bias. High bias could be caused by a weak model, not enough training examples, or too few training epochs. High train accuracy and low test accuracy is a case of high variance. This means the model is more or less \"memorizing\" the expected output and not generalizing well. High variance can be reduced through regularization."
   ]
  },
  {
   "cell_type": "code",
   "execution_count": 10,
   "metadata": {},
   "outputs": [
    {
     "name": "stdout",
     "output_type": "stream",
     "text": [
      "Train on 60000 samples, validate on 10000 samples\n",
      "Epoch 1/20\n",
      "60000/60000 [==============================] - 123s 2ms/step - loss: 0.9096 - accuracy: 0.7054 - val_loss: 0.2983 - val_accuracy: 0.9107\n",
      "Epoch 2/20\n",
      "60000/60000 [==============================] - 119s 2ms/step - loss: 0.4337 - accuracy: 0.8678 - val_loss: 0.2374 - val_accuracy: 0.9259\n",
      "Epoch 3/20\n",
      "60000/60000 [==============================] - 110s 2ms/step - loss: 0.3888 - accuracy: 0.8820 - val_loss: 0.2075 - val_accuracy: 0.9365\n",
      "Epoch 4/20\n",
      "60000/60000 [==============================] - 113s 2ms/step - loss: 0.3593 - accuracy: 0.8904 - val_loss: 0.1885 - val_accuracy: 0.9402\n",
      "Epoch 5/20\n",
      "60000/60000 [==============================] - 108s 2ms/step - loss: 0.3400 - accuracy: 0.8967 - val_loss: 0.1711 - val_accuracy: 0.9485\n",
      "Epoch 6/20\n",
      "60000/60000 [==============================] - 112s 2ms/step - loss: 0.3271 - accuracy: 0.8990 - val_loss: 0.1656 - val_accuracy: 0.9520\n",
      "Epoch 7/20\n",
      "60000/60000 [==============================] - 109s 2ms/step - loss: 0.3149 - accuracy: 0.9038 - val_loss: 0.1572 - val_accuracy: 0.9519\n",
      "Epoch 8/20\n",
      "60000/60000 [==============================] - 115s 2ms/step - loss: 0.3037 - accuracy: 0.9053 - val_loss: 0.1485 - val_accuracy: 0.9556\n",
      "Epoch 9/20\n",
      "60000/60000 [==============================] - 115s 2ms/step - loss: 0.2966 - accuracy: 0.9093 - val_loss: 0.1451 - val_accuracy: 0.9582\n",
      "Epoch 10/20\n",
      "60000/60000 [==============================] - 117s 2ms/step - loss: 0.2835 - accuracy: 0.9142 - val_loss: 0.1451 - val_accuracy: 0.9576\n",
      "Epoch 11/20\n",
      "60000/60000 [==============================] - 115s 2ms/step - loss: 0.2813 - accuracy: 0.9147 - val_loss: 0.1363 - val_accuracy: 0.9597\n",
      "Epoch 12/20\n",
      "60000/60000 [==============================] - 113s 2ms/step - loss: 0.2705 - accuracy: 0.9183 - val_loss: 0.1308 - val_accuracy: 0.9607\n",
      "Epoch 13/20\n",
      "60000/60000 [==============================] - 114s 2ms/step - loss: 0.2657 - accuracy: 0.9190 - val_loss: 0.1239 - val_accuracy: 0.9641\n",
      "Epoch 14/20\n",
      "60000/60000 [==============================] - 118s 2ms/step - loss: 0.2595 - accuracy: 0.9201 - val_loss: 0.1256 - val_accuracy: 0.9634\n",
      "Epoch 15/20\n",
      "60000/60000 [==============================] - 117s 2ms/step - loss: 0.2542 - accuracy: 0.9220 - val_loss: 0.1235 - val_accuracy: 0.9626\n",
      "Epoch 16/20\n",
      "60000/60000 [==============================] - 115s 2ms/step - loss: 0.2428 - accuracy: 0.9246 - val_loss: 0.1097 - val_accuracy: 0.9673\n",
      "Epoch 17/20\n",
      "60000/60000 [==============================] - 115s 2ms/step - loss: 0.2382 - accuracy: 0.9271 - val_loss: 0.1105 - val_accuracy: 0.9655\n",
      "Epoch 18/20\n",
      "60000/60000 [==============================] - 117s 2ms/step - loss: 0.2337 - accuracy: 0.9285 - val_loss: 0.1135 - val_accuracy: 0.9679\n",
      "Epoch 19/20\n",
      "60000/60000 [==============================] - 212s 4ms/step - loss: 0.2278 - accuracy: 0.9312 - val_loss: 0.1101 - val_accuracy: 0.9687\n",
      "Epoch 20/20\n",
      "60000/60000 [==============================] - 240s 4ms/step - loss: 0.2179 - accuracy: 0.9331 - val_loss: 0.1026 - val_accuracy: 0.9699\n",
      "Test loss: 0.10259248144850135\n",
      "Test accuracy: 0.9699000120162964\n"
     ]
    },
    {
     "data": {
      "image/png": "[encoded data removed]",
      "text/plain": [
       "<Figure size 432x288 with 1 Axes>"
      ]
     },
     "metadata": {
      "needs_background": "light"
     },
     "output_type": "display_data"
    }
   ],
   "source": [
    "model.compile(loss='sparse_categorical_crossentropy', optimizer=Adam(), metrics=['accuracy'])\n",
    "\n",
    "# Train model for a given number of epochs\n",
    "history = model.fit(x_train, y_train, batch_size=batch_size, epochs=epochs, verbose=1, validation_data=(x_test, y_test))\n",
    "\n",
    "# Evaluate model against test data\n",
    "score = model.evaluate(x_test, y_test, verbose=0)\n",
    "print('Test loss:', score[0])\n",
    "print('Test accuracy:', score[1])\n",
    "\n",
    "# summarize history for accuracy\n",
    "plt.plot(history.history['accuracy'])\n",
    "plt.plot(history.history['val_accuracy'])\n",
    "plt.title('Model accuracy')\n",
    "plt.ylabel('Accuracy')\n",
    "plt.xlabel('Epoch')\n",
    "plt.legend(['Train', 'Test'], loc='upper left')\n",
    "plt.show()"
   ]
  },
  {
   "cell_type": "markdown",
   "metadata": {},
   "source": [
    "# Make Predictions\n",
    "Let's make some predictions using the trained model from above. This model could have been read from a file of a previously trained model. To see an example of restoring a trained model, take a look at the MNIST Prediction notebook.\n",
    "\n",
    "Note that x_test has been reshaped in an earlier cell to suit this model."
   ]
  },
  {
   "cell_type": "code",
   "execution_count": 11,
   "metadata": {},
   "outputs": [],
   "source": [
    "predictions = model.predict(x_test)\n",
    "most_likely = predictions.argmax(1)"
   ]
  },
  {
   "cell_type": "code",
   "execution_count": 12,
   "metadata": {},
   "outputs": [
    {
     "data": {
      "image/png": "[encoded data removed]",
      "text/plain": [
       "<Figure size 432x288 with 1 Axes>"
      ]
     },
     "metadata": {
      "needs_background": "light"
     },
     "output_type": "display_data"
    }
   ],
   "source": [
    "#The following cell chooses a random test image, prints the model predicted value, expected value (label), and the original image.\n",
    "index = random.randrange(10000)\n",
    "plt.title('Prediction: %d, label: %d' % (most_likely[index], y_test[index]))\n",
    "plt.imshow(orig_test[index], cmap='gray')\n",
    "plt.show()"
   ]
  },
  {
   "cell_type": "markdown",
   "metadata": {},
   "source": [
    "# Error Analysis\n",
    "The next cell looks for model predictions that specifically do not match the expected value. In some cases, even humans might disagree on what this image is."
   ]
  },
  {
   "cell_type": "code",
   "execution_count": 13,
   "metadata": {},
   "outputs": [
    {
     "data": {
      "image/png": "[encoded data removed]",
      "text/plain": [
       "<Figure size 432x288 with 1 Axes>"
      ]
     },
     "metadata": {
      "needs_background": "light"
     },
     "output_type": "display_data"
    },
    {
     "data": {
      "image/png": "[encoded data removed]",
      "text/plain": [
       "<Figure size 432x288 with 1 Axes>"
      ]
     },
     "metadata": {
      "needs_background": "light"
     },
     "output_type": "display_data"
    }
   ],
   "source": [
    "for i in range(10000):\n",
    "    index = random.randrange(10000)\n",
    "    if most_likely[index] != y_test[index]:\n",
    "        break\n",
    "\n",
    "plt.imshow(orig_test[index], cmap='gray')\n",
    "plt.title('Prediction: %d, label: %d' % (most_likely[index], y_test[index]))\n",
    "plt.show()\n",
    "\n",
    "plt.bar(range(10), predictions[index], tick_label=range(10))\n",
    "plt.title('Prediction values')\n",
    "plt.show()"
   ]
  },
  {
   "cell_type": "markdown",
   "metadata": {},
   "source": [
    "# commom question?\n",
    "1.how many layer do you need?\n",
    "Ans.It deepends upon the data and output reqiurement\n",
    "2.How much training data is required ?\n",
    "ans. depends on the data , binary classification doen't require much training data.\n",
    "3.Experiment\n",
    "ans.test your hypothesis on your own is best.\n",
    "4."
   ]
  }
 ],
 "metadata": {
  "kernelspec": {
   "display_name": "Python 3",
   "language": "python",
   "name": "python3"
  },
  "language_info": {
   "codemirror_mode": {
    "name": "ipython",
    "version": 3
   },
   "file_extension": ".py",
   "mimetype": "text/x-python",
   "name": "python",
   "nbconvert_exporter": "python",
   "pygments_lexer": "ipython3",
   "version": "3.7.4"
  }
 },
 "nbformat": 4,
 "nbformat_minor": 2
}
